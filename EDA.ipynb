{
 "cells": [
  {
   "cell_type": "markdown",
   "metadata": {},
   "source": [
    "# The Intern Group - Exploratory Data Analysis on Twitter Data"
   ]
  },
  {
   "cell_type": "code",
   "execution_count": 22,
   "metadata": {},
   "outputs": [],
   "source": [
    "from collections import Counter\n",
    "from tweet_parser.tweet import Tweet\n",
    "import pandas as pd"
   ]
  },
  {
   "cell_type": "code",
   "execution_count": 7,
   "metadata": {},
   "outputs": [],
   "source": [
    "from utils import load_datasets"
   ]
  },
  {
   "cell_type": "code",
   "execution_count": 14,
   "metadata": {},
   "outputs": [],
   "source": [
    "datasets = load_datasets()"
   ]
  },
  {
   "cell_type": "markdown",
   "metadata": {},
   "source": [
    "### About datasets"
   ]
  },
  {
   "cell_type": "code",
   "execution_count": 17,
   "metadata": {},
   "outputs": [
    {
     "name": "stdout",
     "output_type": "stream",
     "text": [
      "GoAbroad's Twitter account has 3249 tweets\n",
      "@naceorg's Twitter account has 3215 tweets\n",
      "theinterngroup's Twitter account has 3226 tweets\n"
     ]
    }
   ],
   "source": [
    "for company in datasets:\n",
    "    print(\"%s's Twitter account has %d tweets\" % (company, len(datasets[company])))"
   ]
  },
  {
   "cell_type": "markdown",
   "metadata": {},
   "source": [
    "## Hashtags"
   ]
  },
  {
   "cell_type": "code",
   "execution_count": 46,
   "metadata": {},
   "outputs": [],
   "source": [
    "def most_frequent(company, datasets):\n",
    "    hashtags = []\n",
    "    for tweet in datasets[company]:\n",
    "        tweet = Tweet(tweet)\n",
    "        try:\n",
    "            if tweet.hashtags:\n",
    "                hashtags.extend(tweet.hashtags)\n",
    "        except IndexError:\n",
    "            pass\n",
    "    print(\"%s:\" % company)\n",
    "    print(pd.DataFrame(Counter(hashtags).most_common(20), columns=['Hashtag', 'count']))"
   ]
  },
  {
   "cell_type": "code",
   "execution_count": 48,
   "metadata": {},
   "outputs": [
    {
     "name": "stdout",
     "output_type": "stream",
     "text": [
      "theinterngroup:\n",
      "                    Hashtag  count\n",
      "0              internabroad    268\n",
      "1              careeradvice    176\n",
      "2                internship    157\n",
      "3            theinterngroup     97\n",
      "4                    London     87\n",
      "5             TravelTuesday     77\n",
      "6                    Madrid     74\n",
      "7          internshipabroad     65\n",
      "8                    travel     63\n",
      "9                  Colombia     59\n",
      "10                 Medellin     57\n",
      "11                 HongKong     54\n",
      "12              StudyAbroad     49\n",
      "13  internationalinternship     48\n",
      "14                Australia     42\n",
      "15                  funding     38\n",
      "16                   intern     36\n",
      "17              internships     34\n",
      "18                Melbourne     33\n",
      "19                  NewYork     31\n"
     ]
    }
   ],
   "source": [
    "most_frequent('theinterngroup', datasets)"
   ]
  },
  {
   "cell_type": "code",
   "execution_count": 49,
   "metadata": {},
   "outputs": [
    {
     "name": "stdout",
     "output_type": "stream",
     "text": [
      "GoAbroad:\n",
      "             Hashtag  count\n",
      "0        studyabroad    339\n",
      "1             travel    208\n",
      "2       internabroad    136\n",
      "3    volunteerabroad    107\n",
      "4             intled    106\n",
      "5   StudyAbroadGoals     68\n",
      "6         workabroad     53\n",
      "7          Volunteer     51\n",
      "8        Internships     50\n",
      "9        teachabroad     48\n",
      "10              TEFL     39\n",
      "11       StudyAbroad     29\n",
      "12      volunteering     29\n",
      "13             Spain     28\n",
      "14            France     27\n",
      "15              Jobs     25\n",
      "16             study     24\n",
      "17             China     22\n",
      "18              tefl     22\n",
      "19       goabroadcom     22\n"
     ]
    }
   ],
   "source": [
    "most_frequent('GoAbroad', datasets)"
   ]
  },
  {
   "cell_type": "code",
   "execution_count": 50,
   "metadata": {},
   "outputs": [
    {
     "name": "stdout",
     "output_type": "stream",
     "text": [
      "@naceorg:\n",
      "             Hashtag  count\n",
      "0     careerservices    661\n",
      "1         recruiting    453\n",
      "2             NACE18    237\n",
      "3           NACEbite    151\n",
      "4            interns     96\n",
      "5         recruiters     71\n",
      "6    WednesdayWisdom     66\n",
      "7            NACEMLI     66\n",
      "8         internship     47\n",
      "9         Recruiters     41\n",
      "10       internships     37\n",
      "11            NACE19     35\n",
      "12                co     35\n",
      "13            hiring     30\n",
      "14         interview     29\n",
      "15            intern     25\n",
      "16         jobsearch     25\n",
      "17        Recruiting     24\n",
      "18              jobs     19\n",
      "19  MondayMotivation     17\n"
     ]
    }
   ],
   "source": [
    "most_frequent('@naceorg', datasets)"
   ]
  },
  {
   "cell_type": "markdown",
   "metadata": {},
   "source": [
    "## Retweets"
   ]
  },
  {
   "cell_type": "code",
   "execution_count": null,
   "metadata": {},
   "outputs": [],
   "source": []
  }
 ],
 "metadata": {
  "kernelspec": {
   "display_name": "intern",
   "language": "python",
   "name": "intern"
  },
  "language_info": {
   "codemirror_mode": {
    "name": "ipython",
    "version": 3
   },
   "file_extension": ".py",
   "mimetype": "text/x-python",
   "name": "python",
   "nbconvert_exporter": "python",
   "pygments_lexer": "ipython3",
   "version": "3.6.5"
  }
 },
 "nbformat": 4,
 "nbformat_minor": 2
}
